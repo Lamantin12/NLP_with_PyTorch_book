{
 "cells": [
  {
   "cell_type": "code",
   "execution_count": 26,
   "id": "973da088",
   "metadata": {},
   "outputs": [],
   "source": [
    "import spacy\n",
    "import tqdm as tqdm"
   ]
  },
  {
   "cell_type": "code",
   "execution_count": 27,
   "id": "f7b3a55c",
   "metadata": {},
   "outputs": [
    {
     "name": "stdout",
     "output_type": "stream",
     "text": [
      "['mary', ',', 'do', \"n't\", 'slap', 'the', 'green', 'witch']\n"
     ]
    }
   ],
   "source": [
    "nlp = spacy.load(\"en_core_web_sm\")\n",
    "text = \"Mary, don't slap the green witch\"\n",
    "print([str(token) for token in nlp(text.lower())])"
   ]
  },
  {
   "cell_type": "code",
   "execution_count": 28,
   "id": "01e3c56e",
   "metadata": {},
   "outputs": [],
   "source": [
    "from nltk.tokenize import TweetTokenizer"
   ]
  },
  {
   "cell_type": "code",
   "execution_count": 29,
   "id": "e26c3da4",
   "metadata": {},
   "outputs": [
    {
     "name": "stdout",
     "output_type": "stream",
     "text": [
      "['snow', 'white', 'and', 'seven', 'degrees', '#makeamoviecold', '@midnight', ':-)']\n"
     ]
    }
   ],
   "source": [
    "tweet = u\"Snow White and Seven Degrees #MakeAMovieCold@midnight:-)\"\n",
    "tokenizer = TweetTokenizer()\n",
    "print(tokenizer.tokenize(tweet.lower()))"
   ]
  },
  {
   "cell_type": "markdown",
   "id": "b3d0477f",
   "metadata": {},
   "source": [
    "#### Генерация n-грамм на основе текста"
   ]
  },
  {
   "cell_type": "code",
   "execution_count": 30,
   "id": "958b1756",
   "metadata": {},
   "outputs": [],
   "source": [
    "def n_grams(text, n):\n",
    "    nlp = spacy.load(\"en_core_web_sm\")\n",
    "    cleaned = [str(token) for token in nlp(text.lower())]\n",
    "    return [cleaned[i:i+n] for i in range(len(cleaned)-n+1)]"
   ]
  },
  {
   "cell_type": "code",
   "execution_count": 31,
   "id": "0ff6f5f9",
   "metadata": {},
   "outputs": [
    {
     "name": "stdout",
     "output_type": "stream",
     "text": [
      "[['mary', ',', 'do'], [',', 'do', \"n't\"], ['do', \"n't\", 'slap'], [\"n't\", 'slap', 'the'], ['slap', 'the', 'green'], ['the', 'green', 'witch']]\n"
     ]
    }
   ],
   "source": [
    "text = \"Mary, don't slap the green witch\"\n",
    "print(n_grams(text, 3))"
   ]
  },
  {
   "cell_type": "markdown",
   "id": "60fb22a5",
   "metadata": {},
   "source": [
    "#### Лемматизация"
   ]
  },
  {
   "cell_type": "code",
   "execution_count": 32,
   "id": "0c1c5159",
   "metadata": {},
   "outputs": [
    {
     "name": "stdout",
     "output_type": "stream",
     "text": [
      "he -> he\n",
      "was -> be\n",
      "running -> run\n",
      "late -> late\n"
     ]
    }
   ],
   "source": [
    "nlp = spacy.load(\"en_core_web_sm\")\n",
    "doc = nlp(u\"he was running late\")\n",
    "for token in doc:\n",
    "    print(f\"{token} -> {token.lemma_}\")"
   ]
  },
  {
   "cell_type": "markdown",
   "id": "b3ec49c5",
   "metadata": {},
   "source": [
    "#### Маркирование частей речи"
   ]
  },
  {
   "cell_type": "code",
   "execution_count": 33,
   "id": "34b14d7e",
   "metadata": {},
   "outputs": [
    {
     "name": "stdout",
     "output_type": "stream",
     "text": [
      "Mary -> PROPN\n",
      "slaped -> VERB\n",
      "the -> DET\n",
      "green -> ADJ\n",
      "witch -> NOUN\n",
      ". -> PUNCT\n"
     ]
    }
   ],
   "source": [
    "nlp = spacy.load(\"en_core_web_sm\")\n",
    "doc = nlp(u\"Mary slaped the green witch.\")\n",
    "for token in doc:\n",
    "    print(f\"{token} -> {token.pos_}\")"
   ]
  },
  {
   "cell_type": "markdown",
   "id": "80a07b2e",
   "metadata": {},
   "source": [
    "#### chunking"
   ]
  },
  {
   "cell_type": "code",
   "execution_count": 34,
   "id": "f6080195",
   "metadata": {},
   "outputs": [
    {
     "name": "stdout",
     "output_type": "stream",
     "text": [
      "Mary -> NP\n",
      "the green witch -> NP\n"
     ]
    }
   ],
   "source": [
    "nlp = spacy.load(\"en_core_web_sm\")\n",
    "doc = nlp(u\"Mary slaped the green witch.\")\n",
    "for chunk in doc.noun_chunks:\n",
    "    print(f\"{chunk} -> {chunk.label_}\")"
   ]
  },
  {
   "cell_type": "markdown",
   "id": "c1fafaee",
   "metadata": {},
   "source": [
    "#### named entity"
   ]
  },
  {
   "cell_type": "code",
   "execution_count": 46,
   "id": "903d1ffd",
   "metadata": {},
   "outputs": [
    {
     "name": "stdout",
     "output_type": "stream",
     "text": [
      "Mary -> PERSON\n",
      "Kate -> PERSON\n",
      "Alaska -> GPE\n"
     ]
    }
   ],
   "source": [
    "nlp = spacy.load(\"en_core_web_sm\")\n",
    "doc = nlp(u\"Mary slaped the green witch Kate in Alaska.\")\n",
    "for ent in doc.ents:\n",
    "    print(f\"{ent} -> {ent.label_}\")"
   ]
  },
  {
   "cell_type": "code",
   "execution_count": null,
   "id": "b6e7deca",
   "metadata": {},
   "outputs": [],
   "source": []
  }
 ],
 "metadata": {
  "kernelspec": {
   "display_name": "Python 3 (ipykernel)",
   "language": "python",
   "name": "python3"
  },
  "language_info": {
   "codemirror_mode": {
    "name": "ipython",
    "version": 3
   },
   "file_extension": ".py",
   "mimetype": "text/x-python",
   "name": "python",
   "nbconvert_exporter": "python",
   "pygments_lexer": "ipython3",
   "version": "3.9.13"
  }
 },
 "nbformat": 4,
 "nbformat_minor": 5
}
