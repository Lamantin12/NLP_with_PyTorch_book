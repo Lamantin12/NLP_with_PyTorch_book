{
 "cells": [
  {
   "cell_type": "code",
   "execution_count": 6,
   "id": "921ab0f0",
   "metadata": {},
   "outputs": [],
   "source": [
    "import numpy as np\n",
    "from annoy import AnnoyIndex\n",
    "import io"
   ]
  },
  {
   "cell_type": "code",
   "execution_count": 7,
   "id": "9fba7be0",
   "metadata": {},
   "outputs": [],
   "source": [
    "class PreTrainedEmbeddings(object):\n",
    "    def __init__(self, word_to_index, word_vectors):\n",
    "        \"\"\"\n",
    "        Аргументы:\n",
    "            word_to_index (dict): отображение слов\n",
    "            в целочисленные значения\n",
    "            word_vectors (список массивов numpy)\n",
    "        \"\"\"\n",
    "        self.word_to_index = word_to_index\n",
    "        self.word_vectors = word_vectors\n",
    "        self.index_to_words = {\n",
    "            v: k \n",
    "            for k, v in self.word_to_index.items()\n",
    "        }\n",
    "        self.index = AnnoyIndex(len(word_vectors[0]), metric=\"euclidean\")\n",
    "        for _, i in self.word_to_index.items():\n",
    "            self.index.add_item(i, self.word_vectors[i])\n",
    "        self.index.build(50)\n",
    "    \n",
    "    @classmethod\n",
    "    def from_embeddings_file(cls, embeddings_file):\n",
    "        \"\"\" Создаем экземпляр на основе файла векторов,\n",
    "            заранее полученных в результате обучения\n",
    "        Формат файла векторов должен быть следующим:\n",
    "            word0 x0_0 x0_1 x0_2 x0_3 ... x0_N\n",
    "            word1 x1_0 x1_1 x1_2 x1_3 ... x1_N\n",
    "            \n",
    "        Аргументы:\n",
    "            embedding_file (str): местоположение файла\n",
    "        Возвращает:\n",
    "            экземпляр PretrainedEmbeddings\n",
    "        \"\"\"\n",
    "        word_to_index = dict()\n",
    "        word_vectors = []\n",
    "        with io.open(embeddings_file, encoding='utf-8') as fp:\n",
    "            for line in fp.readlines():\n",
    "                line = line.split(\" \")\n",
    "                word = line[0]\n",
    "                vec = np.array([float(x) for x in line[1:]])\n",
    "                \n",
    "                word_to_index[word] = len(word_to_index)\n",
    "                word_vectors.append(vec)\n",
    "        return cls(word_to_index, word_vectors)"
   ]
  },
  {
   "cell_type": "markdown",
   "id": "4c69cee0",
   "metadata": {},
   "source": [
    "Будет решаться задача на анологию дается два слова, как то объединенные вместе, так же дается третье слово, Задача: найти четвертое слово, которое связано с третьим так же, как первое со вторым."
   ]
  },
  {
   "cell_type": "code",
   "execution_count": 21,
   "id": "f649956c",
   "metadata": {},
   "outputs": [],
   "source": [
    "class PreTrainedEmbeddings(object):\n",
    "    def __init__(self, word_to_index, word_vectors):\n",
    "        \"\"\"\n",
    "        Аргументы:\n",
    "            word_to_index (dict): отображение слов\n",
    "            в целочисленные значения\n",
    "            word_vectors (список массивов numpy)\n",
    "        \"\"\"\n",
    "        self.word_to_index = word_to_index\n",
    "        self.word_vectors = word_vectors\n",
    "        self.index_to_word = {\n",
    "            v: k \n",
    "            for k, v in self.word_to_index.items()\n",
    "        }\n",
    "        self.index = AnnoyIndex(len(word_vectors[0]), metric=\"euclidean\")\n",
    "        for _, i in self.word_to_index.items():\n",
    "            self.index.add_item(i, self.word_vectors[i])\n",
    "        self.index.build(50)\n",
    "    \n",
    "    @classmethod\n",
    "    def from_embeddings_file(cls, embeddings_file):\n",
    "        \"\"\" Создаем экземпляр на основе файла векторов,\n",
    "            заранее полученных в результате обучения\n",
    "        Формат файла векторов должен быть следующим:\n",
    "            word0 x0_0 x0_1 x0_2 x0_3 ... x0_N\n",
    "            word1 x1_0 x1_1 x1_2 x1_3 ... x1_N\n",
    "            \n",
    "        Аргументы:\n",
    "            embedding_file (str): местоположение файла\n",
    "        Возвращает:\n",
    "            экземпляр PretrainedEmbeddings\n",
    "        \"\"\"\n",
    "        word_to_index = dict()\n",
    "        word_vectors = []\n",
    "        with io.open(embeddings_file, encoding='utf-8') as fp:\n",
    "            for line in fp.readlines():\n",
    "                line = line.split(\" \")\n",
    "                word = line[0]\n",
    "                vec = np.array([float(x) for x in line[1:]])\n",
    "                \n",
    "                word_to_index[word] = len(word_to_index)\n",
    "                word_vectors.append(vec)\n",
    "        return cls(word_to_index, word_vectors)\n",
    "    \n",
    "    def get_embeddings(self, word):\n",
    "        return self.word_vectors[self.word_to_index[word]]\n",
    "    \n",
    "    def get_closest_to_vector(self, vector, n=1):\n",
    "        nn_indices = self.index.get_nns_by_vector(vector, n)\n",
    "        return [self.index_to_word[neighbor] for neighbor in nn_indices]\n",
    "    \n",
    "    def compute_and_print_analogy(self, word_1, word_2, word_3):\n",
    "        vec1 = self.get_embeddings(word_1)\n",
    "        vec2 = self.get_embeddings(word_2)\n",
    "        vec3 = self.get_embeddings(word_3)\n",
    "        \n",
    "        spartial_relations = vec2 - vec1\n",
    "        vec4 = vec3 + spartial_relations\n",
    "        \n",
    "        closest_words = self.get_closest_to_vector(vec4, n=4)\n",
    "        existing_words = set([word_1, word_2, word_3])\n",
    "        closest_words = [word for word in closest_words if word not in existing_words]\n",
    "        \n",
    "        if len(closest_words) == 0:\n",
    "            print(\"Could not find closest words\")\n",
    "            return \n",
    "        \n",
    "        for word4 in closest_words:\n",
    "            print(f\"{word_1} : {word_2} :: {word_3} : {word4}\")"
   ]
  },
  {
   "cell_type": "code",
   "execution_count": 22,
   "id": "29a16d0d",
   "metadata": {},
   "outputs": [],
   "source": [
    "embeddings = PreTrainedEmbeddings.from_embeddings_file(\"../data/embeddings/glove.6B.100d.txt\")"
   ]
  },
  {
   "cell_type": "code",
   "execution_count": 24,
   "id": "5ff868ea",
   "metadata": {},
   "outputs": [
    {
     "name": "stdout",
     "output_type": "stream",
     "text": [
      "man : he :: woman : she\n",
      "man : he :: woman : her\n"
     ]
    }
   ],
   "source": [
    "embeddings.compute_and_print_analogy('man', 'he', 'woman')"
   ]
  },
  {
   "cell_type": "code",
   "execution_count": 31,
   "id": "6c7ff18a",
   "metadata": {},
   "outputs": [
    {
     "name": "stdout",
     "output_type": "stream",
     "text": [
      "fly : plane :: sail : ship\n",
      "fly : plane :: sail : vessel\n"
     ]
    }
   ],
   "source": [
    "embeddings.compute_and_print_analogy('fly', 'plane', 'sail')"
   ]
  },
  {
   "cell_type": "code",
   "execution_count": 32,
   "id": "8077674e",
   "metadata": {},
   "outputs": [
    {
     "name": "stdout",
     "output_type": "stream",
     "text": [
      "cat : kitten :: dog : puppy\n",
      "cat : kitten :: dog : pooch\n",
      "cat : kitten :: dog : junkyard\n"
     ]
    }
   ],
   "source": [
    "embeddings.compute_and_print_analogy('cat', 'kitten', 'dog')"
   ]
  },
  {
   "cell_type": "code",
   "execution_count": 36,
   "id": "899226a6",
   "metadata": {},
   "outputs": [
    {
     "name": "stdout",
     "output_type": "stream",
     "text": [
      "green : color :: dog : viewer\n",
      "green : color :: dog : creature\n",
      "green : color :: dog : images\n"
     ]
    }
   ],
   "source": [
    "embeddings.compute_and_print_analogy('green', 'color', 'dog')"
   ]
  },
  {
   "cell_type": "code",
   "execution_count": 37,
   "id": "4bdbb0a7",
   "metadata": {},
   "outputs": [
    {
     "name": "stdout",
     "output_type": "stream",
     "text": [
      "toe : foot :: finger : hand\n",
      "toe : foot :: finger : fingers\n"
     ]
    }
   ],
   "source": [
    "embeddings.compute_and_print_analogy('toe', 'foot', 'finger')"
   ]
  },
  {
   "cell_type": "code",
   "execution_count": 38,
   "id": "d8e16e2e",
   "metadata": {},
   "outputs": [
    {
     "name": "stdout",
     "output_type": "stream",
     "text": [
      "talk : communicate :: read : typed\n",
      "talk : communicate :: read : copy\n",
      "talk : communicate :: read : anonymously\n"
     ]
    }
   ],
   "source": [
    "embeddings.compute_and_print_analogy('talk', 'communicate', 'read')"
   ]
  },
  {
   "cell_type": "code",
   "execution_count": 39,
   "id": "4ac1b016",
   "metadata": {},
   "outputs": [
    {
     "name": "stdout",
     "output_type": "stream",
     "text": [
      "blue : democrat :: red : republican\n",
      "blue : democrat :: red : congressman\n",
      "blue : democrat :: red : senator\n"
     ]
    }
   ],
   "source": [
    "embeddings.compute_and_print_analogy('blue', 'democrat', 'red')"
   ]
  },
  {
   "cell_type": "code",
   "execution_count": 41,
   "id": "dec907b1",
   "metadata": {},
   "outputs": [
    {
     "name": "stdout",
     "output_type": "stream",
     "text": [
      "fast : fastest :: young : youngest\n",
      "fast : fastest :: young : fellow\n",
      "fast : fastest :: young : younger\n"
     ]
    }
   ],
   "source": [
    "embeddings.compute_and_print_analogy('fast', 'fastest', 'young')"
   ]
  },
  {
   "cell_type": "code",
   "execution_count": 43,
   "id": "9ac5f40d",
   "metadata": {},
   "outputs": [
    {
     "name": "stdout",
     "output_type": "stream",
     "text": [
      "fast : fastest :: small : third\n",
      "fast : fastest :: small : fifth\n",
      "fast : fastest :: small : fourth\n"
     ]
    }
   ],
   "source": [
    "embeddings.compute_and_print_analogy('fast', 'fastest', 'small')"
   ]
  },
  {
   "cell_type": "code",
   "execution_count": 44,
   "id": "20d73789",
   "metadata": {},
   "outputs": [
    {
     "name": "stdout",
     "output_type": "stream",
     "text": [
      "man : king :: woman : queen\n",
      "man : king :: woman : monarch\n",
      "man : king :: woman : throne\n"
     ]
    }
   ],
   "source": [
    "embeddings.compute_and_print_analogy('man', 'king', 'woman')"
   ]
  },
  {
   "cell_type": "code",
   "execution_count": 45,
   "id": "d0953daf",
   "metadata": {},
   "outputs": [
    {
     "name": "stdout",
     "output_type": "stream",
     "text": [
      "man : doctor :: woman : nurse\n",
      "man : doctor :: woman : physician\n"
     ]
    }
   ],
   "source": [
    "embeddings.compute_and_print_analogy('man', 'doctor', 'woman')"
   ]
  },
  {
   "cell_type": "code",
   "execution_count": null,
   "id": "754187ff",
   "metadata": {},
   "outputs": [],
   "source": []
  }
 ],
 "metadata": {
  "kernelspec": {
   "display_name": "Python 3 (ipykernel)",
   "language": "python",
   "name": "python3"
  },
  "language_info": {
   "codemirror_mode": {
    "name": "ipython",
    "version": 3
   },
   "file_extension": ".py",
   "mimetype": "text/x-python",
   "name": "python",
   "nbconvert_exporter": "python",
   "pygments_lexer": "ipython3",
   "version": "3.9.13"
  }
 },
 "nbformat": 4,
 "nbformat_minor": 5
}
