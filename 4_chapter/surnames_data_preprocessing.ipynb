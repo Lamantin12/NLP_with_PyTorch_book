{
 "cells": [
  {
   "cell_type": "code",
   "execution_count": 1,
   "id": "f27d678e",
   "metadata": {},
   "outputs": [],
   "source": [
    "import collections\n",
    "import numpy as np\n",
    "import pandas as pd\n",
    "import re\n",
    "\n",
    "from argparse import Namespace"
   ]
  },
  {
   "cell_type": "code",
   "execution_count": 2,
   "id": "6a8e5e93",
   "metadata": {},
   "outputs": [],
   "source": [
    "args = Namespace(\n",
    "    raw_datacet_csv=\"../data/surnames/surnames.csv\",\n",
    "    train_proportion=0.7,\n",
    "    val_proportion=0.15,\n",
    "    test_proportion=0.15,\n",
    "    output_munged_csv=\"../data/surnames/surname_with_splits.csv\",\n",
    "    seed=1337\n",
    ")"
   ]
  },
  {
   "cell_type": "code",
   "execution_count": 3,
   "id": "43da6ad3",
   "metadata": {},
   "outputs": [],
   "source": [
    "surnames = pd.read_csv(args.raw_datacet_csv, header=0)"
   ]
  },
  {
   "cell_type": "code",
   "execution_count": 4,
   "id": "cd823d19",
   "metadata": {},
   "outputs": [
    {
     "data": {
      "text/html": [
       "<div>\n",
       "<style scoped>\n",
       "    .dataframe tbody tr th:only-of-type {\n",
       "        vertical-align: middle;\n",
       "    }\n",
       "\n",
       "    .dataframe tbody tr th {\n",
       "        vertical-align: top;\n",
       "    }\n",
       "\n",
       "    .dataframe thead th {\n",
       "        text-align: right;\n",
       "    }\n",
       "</style>\n",
       "<table border=\"1\" class=\"dataframe\">\n",
       "  <thead>\n",
       "    <tr style=\"text-align: right;\">\n",
       "      <th></th>\n",
       "      <th>surname</th>\n",
       "      <th>nationality</th>\n",
       "    </tr>\n",
       "  </thead>\n",
       "  <tbody>\n",
       "    <tr>\n",
       "      <th>0</th>\n",
       "      <td>Woodford</td>\n",
       "      <td>English</td>\n",
       "    </tr>\n",
       "    <tr>\n",
       "      <th>1</th>\n",
       "      <td>Coté</td>\n",
       "      <td>French</td>\n",
       "    </tr>\n",
       "    <tr>\n",
       "      <th>2</th>\n",
       "      <td>Kore</td>\n",
       "      <td>English</td>\n",
       "    </tr>\n",
       "    <tr>\n",
       "      <th>3</th>\n",
       "      <td>Koury</td>\n",
       "      <td>Arabic</td>\n",
       "    </tr>\n",
       "    <tr>\n",
       "      <th>4</th>\n",
       "      <td>Lebzak</td>\n",
       "      <td>Russian</td>\n",
       "    </tr>\n",
       "  </tbody>\n",
       "</table>\n",
       "</div>"
      ],
      "text/plain": [
       "    surname nationality\n",
       "0  Woodford     English\n",
       "1      Coté      French\n",
       "2      Kore     English\n",
       "3     Koury      Arabic\n",
       "4    Lebzak     Russian"
      ]
     },
     "execution_count": 4,
     "metadata": {},
     "output_type": "execute_result"
    }
   ],
   "source": [
    "surnames.head()"
   ]
  },
  {
   "cell_type": "code",
   "execution_count": 5,
   "id": "6b8c3f90",
   "metadata": {},
   "outputs": [
    {
     "data": {
      "text/plain": [
       "array(['English', 'French', 'Arabic', 'Russian', 'Japanese', 'Chinese',\n",
       "       'Italian', 'Czech', 'Irish', 'German', 'Greek', 'Spanish',\n",
       "       'Polish', 'Dutch', 'Vietnamese', 'Korean', 'Portuguese',\n",
       "       'Scottish'], dtype=object)"
      ]
     },
     "execution_count": 5,
     "metadata": {},
     "output_type": "execute_result"
    }
   ],
   "source": [
    "surnames.nationality.unique()"
   ]
  },
  {
   "cell_type": "code",
   "execution_count": 6,
   "id": "034c70dd",
   "metadata": {},
   "outputs": [],
   "source": [
    "by_nationality = collections.defaultdict(list)\n",
    "for i, row in surnames.iterrows():\n",
    "    by_nationality[row.nationality].append(row.to_dict())"
   ]
  },
  {
   "cell_type": "code",
   "execution_count": 8,
   "id": "a73e9cf2",
   "metadata": {},
   "outputs": [],
   "source": [
    "final_list = []\n",
    "np.random.seed(args.seed)\n",
    "for _, item_list in sorted(by_nationality.items()):\n",
    "    np.random.shuffle(item_list)\n",
    "    n = len(item_list)\n",
    "    n_train = int(args.train_proportion*n)\n",
    "    n_val = int(args.val_proportion*n)\n",
    "    n_test = int(args.test_proportion*n)\n",
    "    \n",
    "    for item in item_list[:n_train]:\n",
    "        item['split'] = 'train'\n",
    "    for item in item_list[n_train:n_train+n_val]:\n",
    "        item['split'] = 'val'\n",
    "    for item in item_list[n_train+n_val:]:\n",
    "        item['split'] = 'test'\n",
    "    final_list.extend(item_list)\n",
    "final_surnames = pd.DataFrame(final_list)"
   ]
  },
  {
   "cell_type": "code",
   "execution_count": 10,
   "id": "6d869271",
   "metadata": {},
   "outputs": [
    {
     "data": {
      "text/html": [
       "<div>\n",
       "<style scoped>\n",
       "    .dataframe tbody tr th:only-of-type {\n",
       "        vertical-align: middle;\n",
       "    }\n",
       "\n",
       "    .dataframe tbody tr th {\n",
       "        vertical-align: top;\n",
       "    }\n",
       "\n",
       "    .dataframe thead th {\n",
       "        text-align: right;\n",
       "    }\n",
       "</style>\n",
       "<table border=\"1\" class=\"dataframe\">\n",
       "  <thead>\n",
       "    <tr style=\"text-align: right;\">\n",
       "      <th></th>\n",
       "      <th>surname</th>\n",
       "      <th>nationality</th>\n",
       "      <th>split</th>\n",
       "    </tr>\n",
       "  </thead>\n",
       "  <tbody>\n",
       "    <tr>\n",
       "      <th>0</th>\n",
       "      <td>Totah</td>\n",
       "      <td>Arabic</td>\n",
       "      <td>train</td>\n",
       "    </tr>\n",
       "    <tr>\n",
       "      <th>1</th>\n",
       "      <td>Abboud</td>\n",
       "      <td>Arabic</td>\n",
       "      <td>train</td>\n",
       "    </tr>\n",
       "    <tr>\n",
       "      <th>2</th>\n",
       "      <td>Fakhoury</td>\n",
       "      <td>Arabic</td>\n",
       "      <td>train</td>\n",
       "    </tr>\n",
       "    <tr>\n",
       "      <th>3</th>\n",
       "      <td>Srour</td>\n",
       "      <td>Arabic</td>\n",
       "      <td>train</td>\n",
       "    </tr>\n",
       "    <tr>\n",
       "      <th>4</th>\n",
       "      <td>Sayegh</td>\n",
       "      <td>Arabic</td>\n",
       "      <td>train</td>\n",
       "    </tr>\n",
       "  </tbody>\n",
       "</table>\n",
       "</div>"
      ],
      "text/plain": [
       "    surname nationality  split\n",
       "0     Totah      Arabic  train\n",
       "1    Abboud      Arabic  train\n",
       "2  Fakhoury      Arabic  train\n",
       "3     Srour      Arabic  train\n",
       "4    Sayegh      Arabic  train"
      ]
     },
     "execution_count": 10,
     "metadata": {},
     "output_type": "execute_result"
    }
   ],
   "source": [
    "final_surnames.head()"
   ]
  },
  {
   "cell_type": "code",
   "execution_count": 12,
   "id": "9f38a394",
   "metadata": {},
   "outputs": [
    {
     "data": {
      "text/plain": [
       "nationality  split\n",
       "Arabic       train    1122\n",
       "             test      241\n",
       "             val       240\n",
       "Chinese      train     154\n",
       "             test       33\n",
       "             val        33\n",
       "Czech        train     289\n",
       "             test       63\n",
       "             val        62\n",
       "Dutch        train     165\n",
       "             test       36\n",
       "             val        35\n",
       "English      train    2080\n",
       "             test      447\n",
       "             val       445\n",
       "French       train     160\n",
       "             test       35\n",
       "             val        34\n",
       "German       train     403\n",
       "             test       87\n",
       "             val        86\n",
       "Greek        train     109\n",
       "             test       24\n",
       "             val        23\n",
       "Irish        train     128\n",
       "             test       28\n",
       "             val        27\n",
       "Italian      train     420\n",
       "             test       90\n",
       "             val        90\n",
       "Japanese     train     542\n",
       "             test      117\n",
       "             val       116\n",
       "Korean       train      53\n",
       "             test       13\n",
       "             val        11\n",
       "Polish       train      84\n",
       "             test       18\n",
       "             val        18\n",
       "Portuguese   train      38\n",
       "             test        9\n",
       "             val         8\n",
       "Russian      train    1661\n",
       "             test      357\n",
       "             val       355\n",
       "Scottish     train      52\n",
       "             test       12\n",
       "             val        11\n",
       "Spanish      train     180\n",
       "             test       40\n",
       "             val        38\n",
       "Vietnamese   train      40\n",
       "             test       10\n",
       "             val         8\n",
       "Name: split, dtype: int64"
      ]
     },
     "execution_count": 12,
     "metadata": {},
     "output_type": "execute_result"
    }
   ],
   "source": [
    "final_surnames.groupby('nationality')['split'].value_counts()"
   ]
  },
  {
   "cell_type": "code",
   "execution_count": 13,
   "id": "cd6e23ec",
   "metadata": {},
   "outputs": [],
   "source": [
    "final_surnames.to_csv(args.output_munged_csv, index=False)"
   ]
  },
  {
   "cell_type": "code",
   "execution_count": null,
   "id": "28c8bd1c",
   "metadata": {},
   "outputs": [],
   "source": []
  }
 ],
 "metadata": {
  "kernelspec": {
   "display_name": "Python 3 (ipykernel)",
   "language": "python",
   "name": "python3"
  },
  "language_info": {
   "codemirror_mode": {
    "name": "ipython",
    "version": 3
   },
   "file_extension": ".py",
   "mimetype": "text/x-python",
   "name": "python",
   "nbconvert_exporter": "python",
   "pygments_lexer": "ipython3",
   "version": "3.9.13"
  }
 },
 "nbformat": 4,
 "nbformat_minor": 5
}
