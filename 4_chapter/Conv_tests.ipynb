{
 "cells": [
  {
   "cell_type": "code",
   "execution_count": 16,
   "id": "2495442f",
   "metadata": {},
   "outputs": [],
   "source": [
    "import torch\n",
    "import torch.nn as nn"
   ]
  },
  {
   "cell_type": "code",
   "execution_count": 4,
   "id": "602e4ad3",
   "metadata": {},
   "outputs": [
    {
     "name": "stdout",
     "output_type": "stream",
     "text": [
      "torch.Size([2, 10, 7])\n",
      "torch.Size([2, 16, 5])\n",
      "torch.Size([2, 32, 3])\n",
      "torch.Size([2, 64, 1])\n",
      "torch.Size([2, 64])\n"
     ]
    }
   ],
   "source": [
    "# метод 1 свертки до признаков\n",
    "batch_size = 2\n",
    "one_hot_size = 10\n",
    "sequence_width = 7\n",
    "data = torch.randn(batch_size, one_hot_size, sequence_width)\n",
    "conv1 = nn.Conv1d(in_channels=one_hot_size, out_channels=16, kernel_size=3)\n",
    "intermediate1 = conv1(data)\n",
    "print(data.size())\n",
    "print(intermediate1.size())\n",
    "conv2 = nn.Conv1d(in_channels=16, out_channels=32, kernel_size=3)\n",
    "conv3 = nn.Conv1d(in_channels=32, out_channels=64, kernel_size=3)\n",
    "intermediate2 = conv2(intermediate1)\n",
    "intermediate3 = conv3(intermediate2)\n",
    "print(intermediate2.size())\n",
    "print(intermediate3.size())\n",
    "y_out = intermediate3.squeeze()\n",
    "print(y_out.size())"
   ]
  },
  {
   "cell_type": "code",
   "execution_count": 7,
   "id": "2764a404",
   "metadata": {},
   "outputs": [
    {
     "data": {
      "text/plain": [
       "tensor([[[ 0.5062,  0.6872,  1.7719, -1.2438,  0.2732,  0.1331, -0.4231],\n",
       "         [ 0.8393, -0.8087, -0.8021, -0.6562,  0.5446, -1.6875, -1.1710],\n",
       "         [-0.5940,  0.4782,  1.1281, -1.0998, -0.7813,  1.0559, -0.4542],\n",
       "         [ 0.1776, -1.2774, -1.9406, -0.3301, -1.2663,  0.3564,  0.4417],\n",
       "         [-0.6870, -3.1796,  2.7534,  0.2827,  0.6410, -0.3581,  0.3366],\n",
       "         [ 0.0556, -2.5503,  1.2698,  0.2504, -0.0723,  0.3356,  0.2080],\n",
       "         [ 1.0172,  1.5411,  1.2748,  0.2884, -1.8085,  0.1587,  0.1460],\n",
       "         [ 0.3759, -1.2095,  0.6298,  0.0621, -0.5358, -0.1798, -0.5540],\n",
       "         [ 1.9508,  0.6523,  1.7308,  0.2379, -1.4386, -0.2870,  0.0453],\n",
       "         [-0.2045, -2.2067, -1.2516, -1.4818, -0.1121,  1.8820, -0.1649]],\n",
       "\n",
       "        [[-0.5807,  0.7519,  0.1006, -0.3284,  0.6699,  2.6167,  0.2845],\n",
       "         [ 0.0046,  1.9806,  1.1920,  1.9197, -2.5591, -0.0133,  0.7367],\n",
       "         [ 0.3512, -0.1802,  1.4694,  0.7899,  0.3007,  0.4363,  0.0973],\n",
       "         [ 0.6754, -0.5941,  0.6684,  0.6657, -0.3028,  0.6700, -0.7849],\n",
       "         [ 0.2277,  0.4422, -0.5297, -0.7871,  0.4408,  0.8228, -1.4162],\n",
       "         [ 0.2934,  1.6411,  1.2203, -1.1118,  0.3910,  1.0551, -0.9011],\n",
       "         [ 0.1309, -0.4091, -1.2017, -1.0248, -0.4248,  0.1333,  1.6345],\n",
       "         [-0.9691,  0.0782, -0.3250,  1.3546, -0.2204, -0.3581, -0.0130],\n",
       "         [ 0.0643,  0.2422,  0.8851,  0.5745, -0.0522,  0.7905,  0.3215],\n",
       "         [ 1.1162, -0.1116,  0.6348,  0.3621, -1.4615,  0.3204, -0.6929]]])"
      ]
     },
     "execution_count": 7,
     "metadata": {},
     "output_type": "execute_result"
    }
   ],
   "source": [
    "data"
   ]
  },
  {
   "cell_type": "code",
   "execution_count": 15,
   "id": "880d4506",
   "metadata": {},
   "outputs": [
    {
     "name": "stdout",
     "output_type": "stream",
     "text": [
      "torch.Size([2, 80])\n",
      "torch.Size([2, 16])\n",
      "torch.Size([2, 16])\n",
      "torch.Size([2, 16])\n"
     ]
    }
   ],
   "source": [
    "# метод 2\n",
    "print(intermediate1.view(batch_size, -1).size())\n",
    "\n",
    "#метод 3 \n",
    "print(torch.mean(intermediate1, dim=2).size())\n",
    "print(torch.max(intermediate1, dim=2)[0].size())\n",
    "print(torch.sum(intermediate1, dim=2).size())"
   ]
  },
  {
   "cell_type": "code",
   "execution_count": 27,
   "id": "202b59c1",
   "metadata": {},
   "outputs": [
    {
     "name": "stdout",
     "output_type": "stream",
     "text": [
      "torch.Size([2, 77, 17])\n",
      "torch.Size([2, 128, 15])\n",
      "torch.Size([2, 128, 7])\n",
      "torch.Size([2, 128, 3])\n",
      "torch.Size([2, 128, 1])\n",
      "torch.Size([2, 128])\n"
     ]
    }
   ],
   "source": [
    "batch_size = 2\n",
    "one_hot_size = 77\n",
    "sequence_width = 17\n",
    "hid_chan = 128\n",
    "data = torch.randn(batch_size, one_hot_size, sequence_width)\n",
    "\n",
    "conv1 = nn.Conv1d(in_channels=one_hot_size, out_channels=hid_chan, kernel_size=3, stride=1)\n",
    "conv2 = nn.Conv1d(in_channels=hid_chan, out_channels=hid_chan, kernel_size=3, stride=2)\n",
    "conv3 = nn.Conv1d(in_channels=hid_chan, out_channels=hid_chan, kernel_size=3, stride=2)\n",
    "conv4 = nn.Conv1d(in_channels=hid_chan, out_channels=hid_chan, kernel_size=3, stride=1)\n",
    "intermediate1 = conv1(data)\n",
    "intermediate2 = conv2(intermediate1)\n",
    "intermediate3 = conv3(intermediate2)\n",
    "intermediate4 = conv4(intermediate3)\n",
    "y_out = intermediate4.squeeze()\n",
    "print(data.size())\n",
    "print(intermediate1.size())\n",
    "print(intermediate2.size())\n",
    "print(intermediate3.size())\n",
    "print(intermediate4.size())\n",
    "print(y_out.size())"
   ]
  },
  {
   "cell_type": "code",
   "execution_count": 42,
   "id": "c4ef77cf",
   "metadata": {},
   "outputs": [
    {
     "name": "stdout",
     "output_type": "stream",
     "text": [
      "torch.Size([20, 16, 50, 100])\n",
      "torch.Size([20, 33, 24, 49])\n",
      "torch.Size([20, 33, 28, 100])\n",
      "torch.Size([20, 33, 26, 100])\n"
     ]
    }
   ],
   "source": [
    "m1 = nn.Conv2d(16, 33, 3, stride=2)\n",
    "# non-square kernels and unequal stride and with padding\n",
    "m2 = nn.Conv2d(16, 33, (3, 5), stride=(2, 1), padding=(4, 2))\n",
    "# non-square kernels and unequal stride and with padding and dilation\n",
    "m3 = nn.Conv2d(16, 33, (3, 5), stride=(2, 1), padding=(4, 2), dilation=(3, 1))\n",
    "input = torch.randn(20, 16, 50, 100)\n",
    "print(input.size())\n",
    "output = m1(input)\n",
    "print(output.size())\n",
    "output = m2(input)\n",
    "print(output.size())\n",
    "output = m3(input)\n",
    "print(output.size())"
   ]
  },
  {
   "cell_type": "code",
   "execution_count": 32,
   "id": "3b66cf54",
   "metadata": {},
   "outputs": [],
   "source": []
  },
  {
   "cell_type": "code",
   "execution_count": null,
   "id": "b32f2ffe",
   "metadata": {},
   "outputs": [],
   "source": []
  }
 ],
 "metadata": {
  "kernelspec": {
   "display_name": "Python 3 (ipykernel)",
   "language": "python",
   "name": "python3"
  },
  "language_info": {
   "codemirror_mode": {
    "name": "ipython",
    "version": 3
   },
   "file_extension": ".py",
   "mimetype": "text/x-python",
   "name": "python",
   "nbconvert_exporter": "python",
   "pygments_lexer": "ipython3",
   "version": "3.9.13"
  }
 },
 "nbformat": 4,
 "nbformat_minor": 5
}
