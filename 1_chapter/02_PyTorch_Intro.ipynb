{
 "cells": [
  {
   "cell_type": "code",
   "execution_count": 2,
   "id": "0cecf534",
   "metadata": {},
   "outputs": [],
   "source": [
    "import torch\n",
    "import tqdm as tqdm"
   ]
  },
  {
   "cell_type": "code",
   "execution_count": 3,
   "id": "ceb29a2c",
   "metadata": {},
   "outputs": [],
   "source": [
    "def describe(x):\n",
    "    print(f\"Type: {x.type()}\")\n",
    "    print(f\"Shape: {x.shape}\")\n",
    "    print(f\"Values: {x}\")"
   ]
  },
  {
   "cell_type": "code",
   "execution_count": 4,
   "id": "0c89770f",
   "metadata": {},
   "outputs": [
    {
     "name": "stdout",
     "output_type": "stream",
     "text": [
      "Type: torch.FloatTensor\n",
      "Shape: torch.Size([2, 3])\n",
      "Values: tensor([[-5.6663e+04,  8.0435e-43, -5.6665e+04],\n",
      "        [ 8.0435e-43, -5.6669e+04,  8.0435e-43]])\n"
     ]
    }
   ],
   "source": [
    "describe(torch.Tensor(2, 3))"
   ]
  },
  {
   "cell_type": "code",
   "execution_count": 5,
   "id": "3a14c33b",
   "metadata": {},
   "outputs": [
    {
     "name": "stdout",
     "output_type": "stream",
     "text": [
      "Type: torch.FloatTensor\n",
      "Shape: torch.Size([2, 3])\n",
      "Values: tensor([[0.7220, 0.5205, 0.7625],\n",
      "        [0.8690, 0.4212, 0.9375]])\n",
      "Type: torch.FloatTensor\n",
      "Shape: torch.Size([2, 3])\n",
      "Values: tensor([[ 1.2513,  0.9662, -0.2057],\n",
      "        [ 0.5396,  0.3484,  1.2224]])\n"
     ]
    }
   ],
   "source": [
    "describe(torch.rand(2, 3)) # равномерное\n",
    "describe(torch.randn(2, 3)) # нормальное"
   ]
  },
  {
   "cell_type": "code",
   "execution_count": 6,
   "id": "6fa2ebe4",
   "metadata": {},
   "outputs": [
    {
     "name": "stdout",
     "output_type": "stream",
     "text": [
      "Type: torch.FloatTensor\n",
      "Shape: torch.Size([2, 3])\n",
      "Values: tensor([[0., 0., 0.],\n",
      "        [0., 0., 0.]])\n",
      "Type: torch.FloatTensor\n",
      "Shape: torch.Size([2, 3])\n",
      "Values: tensor([[1., 1., 1.],\n",
      "        [1., 1., 1.]])\n",
      "Type: torch.FloatTensor\n",
      "Shape: torch.Size([2, 3])\n",
      "Values: tensor([[5., 5., 5.],\n",
      "        [5., 5., 5.]])\n"
     ]
    }
   ],
   "source": [
    "describe(torch.zeros(2, 3))\n",
    "x = torch.ones(2, 3)\n",
    "describe(x)\n",
    "x.fill_(5)\n",
    "describe(x)"
   ]
  },
  {
   "cell_type": "code",
   "execution_count": 7,
   "id": "ad7199bc",
   "metadata": {},
   "outputs": [],
   "source": [
    "import numpy as np"
   ]
  },
  {
   "cell_type": "code",
   "execution_count": 8,
   "id": "a16113df",
   "metadata": {},
   "outputs": [
    {
     "name": "stdout",
     "output_type": "stream",
     "text": [
      "Type: torch.DoubleTensor\n",
      "Shape: torch.Size([2, 3])\n",
      "Values: tensor([[0.4144, 0.7654, 0.0345],\n",
      "        [0.0470, 0.7744, 0.7914]], dtype=torch.float64)\n"
     ]
    }
   ],
   "source": [
    "npy = np.random.rand(2, 3)\n",
    "describe(torch.from_numpy(npy))"
   ]
  },
  {
   "cell_type": "code",
   "execution_count": 10,
   "id": "1122afeb",
   "metadata": {},
   "outputs": [
    {
     "name": "stdout",
     "output_type": "stream",
     "text": [
      "Type: torch.FloatTensor\n",
      "Shape: torch.Size([2, 3])\n",
      "Values: tensor([[0.0000e+00, 0.0000e+00, 0.0000e+00],\n",
      "        [0.0000e+00, 0.0000e+00, 8.0435e-43]])\n",
      "Type: torch.DoubleTensor\n",
      "Shape: torch.Size([2, 3])\n",
      "Values: tensor([[0., 0., 0.],\n",
      "        [0., 0., 0.]], dtype=torch.float64)\n"
     ]
    }
   ],
   "source": [
    "describe(torch.Tensor(2, 3))\n",
    "describe(torch.DoubleTensor(2, 3))"
   ]
  },
  {
   "cell_type": "code",
   "execution_count": null,
   "id": "94109efe",
   "metadata": {},
   "outputs": [],
   "source": []
  },
  {
   "cell_type": "code",
   "execution_count": 12,
   "id": "1ce2f484",
   "metadata": {},
   "outputs": [
    {
     "data": {
      "text/plain": [
       "tensor([0, 1, 2, 3, 4, 5])"
      ]
     },
     "execution_count": 12,
     "metadata": {},
     "output_type": "execute_result"
    }
   ],
   "source": [
    "x = torch.arange(6)\n",
    "x"
   ]
  },
  {
   "cell_type": "code",
   "execution_count": 15,
   "id": "fa78a03e",
   "metadata": {},
   "outputs": [
    {
     "data": {
      "text/plain": [
       "tensor([[0, 1, 2],\n",
       "        [3, 4, 5]])"
      ]
     },
     "execution_count": 15,
     "metadata": {},
     "output_type": "execute_result"
    }
   ],
   "source": [
    "x = x.view(2, 3)\n",
    "x"
   ]
  },
  {
   "cell_type": "code",
   "execution_count": 16,
   "id": "00cc8324",
   "metadata": {},
   "outputs": [
    {
     "data": {
      "text/plain": [
       "tensor([3, 5, 7])"
      ]
     },
     "execution_count": 16,
     "metadata": {},
     "output_type": "execute_result"
    }
   ],
   "source": [
    "torch.sum(x, dim=0)"
   ]
  },
  {
   "cell_type": "code",
   "execution_count": 17,
   "id": "e7439588",
   "metadata": {},
   "outputs": [
    {
     "data": {
      "text/plain": [
       "tensor([[0, 3],\n",
       "        [1, 4],\n",
       "        [2, 5]])"
      ]
     },
     "execution_count": 17,
     "metadata": {},
     "output_type": "execute_result"
    }
   ],
   "source": [
    "torch.transpose(x, 0, 1)"
   ]
  },
  {
   "cell_type": "code",
   "execution_count": null,
   "id": "0910c978",
   "metadata": {},
   "outputs": [],
   "source": []
  },
  {
   "cell_type": "code",
   "execution_count": 20,
   "id": "741b1066",
   "metadata": {},
   "outputs": [
    {
     "data": {
      "text/plain": [
       "tensor([[0, 1, 2],\n",
       "        [3, 4, 5]])"
      ]
     },
     "execution_count": 20,
     "metadata": {},
     "output_type": "execute_result"
    }
   ],
   "source": [
    "x = torch.arange(6).view(2, 3)\n",
    "x"
   ]
  },
  {
   "cell_type": "code",
   "execution_count": 19,
   "id": "4f4cfc53",
   "metadata": {},
   "outputs": [
    {
     "data": {
      "text/plain": [
       "tensor([[0, 1]])"
      ]
     },
     "execution_count": 19,
     "metadata": {},
     "output_type": "execute_result"
    }
   ],
   "source": [
    "x[:1, :2]"
   ]
  },
  {
   "cell_type": "code",
   "execution_count": 21,
   "id": "40abbe36",
   "metadata": {},
   "outputs": [
    {
     "data": {
      "text/plain": [
       "tensor([[0, 2],\n",
       "        [3, 5]])"
      ]
     },
     "execution_count": 21,
     "metadata": {},
     "output_type": "execute_result"
    }
   ],
   "source": [
    "indices = torch.LongTensor([0, 2])\n",
    "torch.index_select(x, dim=1, index=indices)"
   ]
  },
  {
   "cell_type": "code",
   "execution_count": 22,
   "id": "736f2626",
   "metadata": {},
   "outputs": [
    {
     "data": {
      "text/plain": [
       "tensor([[0, 1, 2],\n",
       "        [0, 1, 2]])"
      ]
     },
     "execution_count": 22,
     "metadata": {},
     "output_type": "execute_result"
    }
   ],
   "source": [
    "indices = torch.LongTensor([0, 0])\n",
    "torch.index_select(x, dim=0, index=indices)"
   ]
  },
  {
   "cell_type": "code",
   "execution_count": 23,
   "id": "cf9f6827",
   "metadata": {},
   "outputs": [
    {
     "data": {
      "text/plain": [
       "tensor([[0, 1, 2],\n",
       "        [3, 4, 5],\n",
       "        [0, 1, 2],\n",
       "        [3, 4, 5]])"
      ]
     },
     "execution_count": 23,
     "metadata": {},
     "output_type": "execute_result"
    }
   ],
   "source": [
    "torch.cat([x, x], dim=0)"
   ]
  },
  {
   "cell_type": "code",
   "execution_count": 24,
   "id": "88020953",
   "metadata": {},
   "outputs": [
    {
     "data": {
      "text/plain": [
       "tensor([[0, 1, 2, 0, 1, 2],\n",
       "        [3, 4, 5, 3, 4, 5]])"
      ]
     },
     "execution_count": 24,
     "metadata": {},
     "output_type": "execute_result"
    }
   ],
   "source": [
    "torch.cat([x, x], dim=1)"
   ]
  },
  {
   "cell_type": "code",
   "execution_count": 25,
   "id": "0092de7d",
   "metadata": {},
   "outputs": [
    {
     "data": {
      "text/plain": [
       "tensor([[[0, 1, 2],\n",
       "         [3, 4, 5]],\n",
       "\n",
       "        [[0, 1, 2],\n",
       "         [3, 4, 5]]])"
      ]
     },
     "execution_count": 25,
     "metadata": {},
     "output_type": "execute_result"
    }
   ],
   "source": [
    "torch.stack([x, x])"
   ]
  },
  {
   "cell_type": "code",
   "execution_count": 40,
   "id": "40f2a0ed",
   "metadata": {},
   "outputs": [
    {
     "data": {
      "text/plain": [
       "tensor([[1., 1.],\n",
       "        [1., 1.]], requires_grad=True)"
      ]
     },
     "execution_count": 40,
     "metadata": {},
     "output_type": "execute_result"
    }
   ],
   "source": [
    "x = torch.ones(2, 2, requires_grad=True)\n",
    "x"
   ]
  },
  {
   "cell_type": "code",
   "execution_count": 41,
   "id": "2a968fda",
   "metadata": {},
   "outputs": [
    {
     "name": "stdout",
     "output_type": "stream",
     "text": [
      "None\n"
     ]
    }
   ],
   "source": [
    "print(x.grad)"
   ]
  },
  {
   "cell_type": "code",
   "execution_count": 42,
   "id": "a8d6fb7d",
   "metadata": {},
   "outputs": [],
   "source": [
    "y = (x + 2) * (x + 5) + 3"
   ]
  },
  {
   "cell_type": "code",
   "execution_count": 43,
   "id": "a3bef2eb",
   "metadata": {},
   "outputs": [
    {
     "name": "stdout",
     "output_type": "stream",
     "text": [
      "tensor([[2.2500, 2.2500],\n",
      "        [2.2500, 2.2500]])\n"
     ]
    }
   ],
   "source": [
    "z = y.mean()\n",
    "z.backward()\n",
    "print(x.grad)"
   ]
  },
  {
   "cell_type": "code",
   "execution_count": 44,
   "id": "bceceb19",
   "metadata": {},
   "outputs": [
    {
     "name": "stdout",
     "output_type": "stream",
     "text": [
      "False\n"
     ]
    }
   ],
   "source": [
    "print(torch.cuda.is_available())"
   ]
  },
  {
   "cell_type": "markdown",
   "id": "bad9ff19",
   "metadata": {},
   "source": [
    "# Tasks"
   ]
  },
  {
   "cell_type": "code",
   "execution_count": 48,
   "id": "1eb0dad6",
   "metadata": {},
   "outputs": [
    {
     "name": "stdout",
     "output_type": "stream",
     "text": [
      "torch.Size([3, 3])\n",
      "torch.Size([1, 3, 3])\n"
     ]
    }
   ],
   "source": [
    "# 1\n",
    "x = torch.rand(3, 3)\n",
    "print(x.shape)\n",
    "x = x[None, :]\n",
    "print(x.shape)"
   ]
  },
  {
   "cell_type": "code",
   "execution_count": 53,
   "id": "16f2b591",
   "metadata": {},
   "outputs": [
    {
     "name": "stdout",
     "output_type": "stream",
     "text": [
      "torch.Size([3, 3])\n",
      "torch.Size([1, 3, 3])\n"
     ]
    }
   ],
   "source": [
    "# 1\n",
    "x = torch.rand(3, 3)\n",
    "print(x.shape)\n",
    "x = torch.unsqueeze(x, dim=0)\n",
    "print(x.shape)"
   ]
  },
  {
   "cell_type": "code",
   "execution_count": 54,
   "id": "5a8ce07b",
   "metadata": {},
   "outputs": [
    {
     "name": "stdout",
     "output_type": "stream",
     "text": [
      "torch.Size([1, 3, 3])\n",
      "torch.Size([3, 3])\n"
     ]
    }
   ],
   "source": [
    "# 2\n",
    "print(x.shape)\n",
    "x = x.squeeze()\n",
    "print(x.shape)"
   ]
  },
  {
   "cell_type": "code",
   "execution_count": 59,
   "id": "867e1983",
   "metadata": {},
   "outputs": [
    {
     "data": {
      "text/plain": [
       "tensor([[5, 5, 5],\n",
       "        [6, 4, 5],\n",
       "        [4, 6, 5],\n",
       "        [3, 6, 5],\n",
       "        [5, 4, 6]])"
      ]
     },
     "execution_count": 59,
     "metadata": {},
     "output_type": "execute_result"
    }
   ],
   "source": [
    "# 3\n",
    "x = torch.randint(3, 7, size=(5, 3))\n",
    "x"
   ]
  },
  {
   "cell_type": "code",
   "execution_count": 63,
   "id": "ec982e2c",
   "metadata": {},
   "outputs": [
    {
     "data": {
      "text/plain": [
       "tensor([[ 1.2663,  1.4032, -0.4668],\n",
       "        [ 1.2166, -0.0496,  0.1831],\n",
       "        [ 1.2312, -0.8972, -3.1487]])"
      ]
     },
     "execution_count": 63,
     "metadata": {},
     "output_type": "execute_result"
    }
   ],
   "source": [
    "# 4\n",
    "x = torch.randn(3, 3)\n",
    "x"
   ]
  },
  {
   "cell_type": "code",
   "execution_count": 64,
   "id": "7c8ce836",
   "metadata": {},
   "outputs": [
    {
     "data": {
      "text/plain": [
       "tensor([1., 1., 1., 1.])"
      ]
     },
     "execution_count": 64,
     "metadata": {},
     "output_type": "execute_result"
    }
   ],
   "source": [
    "# 5\n",
    "x = torch.Tensor([1, 1, 1, 0, 1])\n",
    "x[x != 0]"
   ]
  },
  {
   "cell_type": "code",
   "execution_count": 68,
   "id": "720f0f2d",
   "metadata": {},
   "outputs": [
    {
     "data": {
      "text/plain": [
       "tensor([[[0.5201, 0.5201, 0.5201, 0.5201],\n",
       "         [0.7716, 0.7716, 0.7716, 0.7716],\n",
       "         [0.5389, 0.5389, 0.5389, 0.5389]]])"
      ]
     },
     "execution_count": 68,
     "metadata": {},
     "output_type": "execute_result"
    }
   ],
   "source": [
    "# 6\n",
    "x = torch.rand(3, 1)\n",
    "torch.stack([x, x, x, x], dim=0).T"
   ]
  },
  {
   "cell_type": "code",
   "execution_count": 69,
   "id": "4e5b4c1d",
   "metadata": {},
   "outputs": [
    {
     "data": {
      "text/plain": [
       "tensor([[[2.3826, 2.2595, 1.3035, 1.5655],\n",
       "         [2.0112, 1.8053, 0.9756, 1.5253],\n",
       "         [2.1088, 1.9377, 1.3064, 1.2981],\n",
       "         [2.1117, 2.1240, 1.0955, 1.3038]],\n",
       "\n",
       "        [[1.1192, 1.2231, 2.0823, 2.0639],\n",
       "         [0.8776, 0.8773, 1.5964, 1.5463],\n",
       "         [0.4776, 0.5051, 1.1456, 0.9811],\n",
       "         [1.3384, 0.9890, 1.3301, 1.8696]],\n",
       "\n",
       "        [[1.3464, 1.1694, 0.7347, 1.3401],\n",
       "         [2.1030, 1.5618, 1.1161, 2.0452],\n",
       "         [1.7071, 1.2554, 1.1232, 1.6751],\n",
       "         [1.7295, 1.8048, 0.8316, 1.9562]]])"
      ]
     },
     "execution_count": 69,
     "metadata": {},
     "output_type": "execute_result"
    }
   ],
   "source": [
    "# 7\n",
    "torch.matmul(torch.rand(3, 4, 5), torch.rand(3, 5, 4))"
   ]
  },
  {
   "cell_type": "code",
   "execution_count": 70,
   "id": "06d7555b",
   "metadata": {},
   "outputs": [
    {
     "data": {
      "text/plain": [
       "tensor([[[0.8033, 0.3665, 0.3827, 1.0088],\n",
       "         [1.9270, 1.1158, 0.9574, 1.4911],\n",
       "         [0.2778, 0.1666, 0.1241, 0.1023],\n",
       "         [0.4030, 0.3784, 0.4685, 0.5610]],\n",
       "\n",
       "        [[0.9996, 0.7663, 0.7476, 0.8813],\n",
       "         [1.8928, 1.2114, 1.1104, 1.7275],\n",
       "         [0.8622, 0.6801, 0.6914, 0.7740],\n",
       "         [1.5070, 0.8341, 0.7497, 1.5381]],\n",
       "\n",
       "        [[0.9887, 0.6730, 0.6988, 1.1249],\n",
       "         [0.8380, 0.5385, 0.5148, 0.5531],\n",
       "         [1.6378, 1.1289, 1.0819, 1.4541],\n",
       "         [0.8850, 0.3532, 0.3451, 1.0392]]])"
      ]
     },
     "execution_count": 70,
     "metadata": {},
     "output_type": "execute_result"
    }
   ],
   "source": [
    "# 8\n",
    "torch.matmul(torch.rand(3, 4, 5), torch.rand(5, 4))"
   ]
  },
  {
   "cell_type": "code",
   "execution_count": null,
   "id": "92b3f87a",
   "metadata": {},
   "outputs": [],
   "source": []
  }
 ],
 "metadata": {
  "kernelspec": {
   "display_name": "Python 3 (ipykernel)",
   "language": "python",
   "name": "python3"
  },
  "language_info": {
   "codemirror_mode": {
    "name": "ipython",
    "version": 3
   },
   "file_extension": ".py",
   "mimetype": "text/x-python",
   "name": "python",
   "nbconvert_exporter": "python",
   "pygments_lexer": "ipython3",
   "version": "3.9.13"
  }
 },
 "nbformat": 4,
 "nbformat_minor": 5
}
